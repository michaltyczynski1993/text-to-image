{
 "cells": [
  {
   "cell_type": "markdown",
   "metadata": {},
   "source": [
    "Auto pipeline text2image: stable-diffusion-1.5 | cuda rendering | rendering time: ~10sek."
   ]
  },
  {
   "cell_type": "code",
   "execution_count": null,
   "metadata": {},
   "outputs": [],
   "source": [
    "from diffusers import AutoPipelineForText2Image\n",
    "import torch\n",
    "\n",
    "pipeline = AutoPipelineForText2Image.from_pretrained(\n",
    "    \"runwayml/stable-diffusion-v1-5\", torch_dtype=torch.float16, use_safetensors=True\n",
    ").to(\"cuda\")\n",
    "prompt = \"hyper realistic skyrim warrior with sword in his hand\"\n",
    "negative_prompt = \"poorly drawn body, \"\n",
    "\n",
    "image = pipeline(prompt, negative_prompt=negative_prompt, num_inference_steps=50).images[0]\n",
    "image"
   ]
  },
  {
   "cell_type": "markdown",
   "metadata": {},
   "source": [
    "StableDiffusionPipeline text2image: dreamlike-photoreal-2.0 | cuda rendering | rendering time: ~13sek."
   ]
  },
  {
   "cell_type": "code",
   "execution_count": null,
   "metadata": {},
   "outputs": [],
   "source": [
    "from diffusers import StableDiffusionPipeline\n",
    "import torch\n",
    "\n",
    "model_id = \"dreamlike-art/dreamlike-photoreal-2.0\"\n",
    "pipe = StableDiffusionPipeline.from_pretrained(model_id, torch_dtype=torch.float16)\n",
    "pipe = pipe.to(\"cuda\")\n",
    "\n",
    "prompt = \"the witcher in woods background\"\n",
    "neg_prompt = \"ugly face, poorly drawn body, double legs\"\n",
    "image = pipe(prompt, num_inference_steps=25).images[0]\n",
    "\n",
    "image"
   ]
  },
  {
   "cell_type": "markdown",
   "metadata": {},
   "source": [
    "StableDiffusionPipeline text2image: dreamlike-photoreal-2.0 | cuda rendering | rendering time: ~43sek. | output: 3 images"
   ]
  },
  {
   "cell_type": "code",
   "execution_count": null,
   "metadata": {},
   "outputs": [],
   "source": [
    "from diffusers import StableDiffusionPipeline\n",
    "from diffusers.utils import make_image_grid\n",
    "import torch\n",
    "\n",
    "model_id = \"dreamlike-art/dreamlike-photoreal-2.0\"\n",
    "pipe = StableDiffusionPipeline.from_pretrained(model_id, torch_dtype=torch.float16)\n",
    "pipe = pipe.to(\"cuda\")\n",
    "prompt = \"little toon mouse with flower\"\n",
    "images = pipe(prompt,num_images_per_prompt=3, num_inference_steps=50).images\n",
    "# image = pipe(prompt, num_inference_steps=25).images[0]\n",
    "make_image_grid(images, rows=1, cols=3)"
   ]
  }
 ],
 "metadata": {
  "kernelspec": {
   "display_name": ".venv",
   "language": "python",
   "name": "python3"
  },
  "language_info": {
   "name": "python",
   "version": "3.11.7"
  }
 },
 "nbformat": 4,
 "nbformat_minor": 2
}
